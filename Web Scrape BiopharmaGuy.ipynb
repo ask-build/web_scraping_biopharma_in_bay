{
 "cells": [
  {
   "cell_type": "code",
   "execution_count": 2,
   "metadata": {
    "collapsed": true
   },
   "outputs": [],
   "source": [
    "# import libraries\n",
    "import urllib.request\n",
    "from bs4 import BeautifulSoup\n",
    "import csv\n",
    "import pandas as pd"
   ]
  },
  {
   "cell_type": "code",
   "execution_count": 3,
   "metadata": {
    "collapsed": true
   },
   "outputs": [],
   "source": [
    "# specify the url\n",
    "quote_page = 'https://biopharmguy.com/links/company-by-name-northern-california.php'"
   ]
  },
  {
   "cell_type": "code",
   "execution_count": 4,
   "metadata": {},
   "outputs": [
    {
     "data": {
      "text/plain": [
       "<http.client.HTTPResponse at 0x2b9178cac8>"
      ]
     },
     "execution_count": 4,
     "metadata": {},
     "output_type": "execute_result"
    }
   ],
   "source": [
    "# query the website and return the html to the variable ‘page’\n",
    "page = urllib.request.urlopen(quote_page)\n",
    "page"
   ]
  },
  {
   "cell_type": "code",
   "execution_count": 5,
   "metadata": {
    "collapsed": true
   },
   "outputs": [],
   "source": [
    "# parse the html using beautiful soup and store in variable `soup`\n",
    "soup = BeautifulSoup(page, 'html.parser')"
   ]
  },
  {
   "cell_type": "code",
   "execution_count": 6,
   "metadata": {
    "collapsed": true
   },
   "outputs": [],
   "source": [
    "#---------------Scrape that Data---------------#\n",
    "# Store values in a separate list for each of the columns#\n",
    "# Zip the list to form a dataframe for further analysis\n",
    "#Export to csv\n",
    "\n",
    "\n",
    "company=[0]\n",
    "location=[0]\n",
    "description=[0]\n",
    "\n",
    "df = pd.DataFrame()\n",
    "\n",
    "# Get the Company Name\n",
    "comp1 = soup.findAll('td',attrs={'class': 'company'})\n",
    "for k in comp1: \n",
    "    company.append(k.text)\n",
    "    #print(company)\n",
    "    \n",
    "# Get the Location\n",
    "loc_box = soup.findAll(attrs={'class': 'location'})\n",
    "for i in loc_box: \n",
    "    location.append(i.text)\n",
    "    #print(location)\n",
    "    \n",
    "# get the Description\n",
    "desc_box = soup.findAll(attrs={'class': 'description'})\n",
    "for j in desc_box: \n",
    "    description.append(j.text)\n",
    "    #df.loc[j, ['description']] = j.text\n",
    "    #print(description)\n",
    "    \n",
    "# Zip the list and provide column names\n",
    "    \n",
    "df=pd.DataFrame(list(zip(company, location, description)),columns=['company','location', 'description'])\n"
   ]
  },
  {
   "cell_type": "code",
   "execution_count": 7,
   "metadata": {},
   "outputs": [
    {
     "data": {
      "text/html": [
       "<div>\n",
       "<style scoped>\n",
       "    .dataframe tbody tr th:only-of-type {\n",
       "        vertical-align: middle;\n",
       "    }\n",
       "\n",
       "    .dataframe tbody tr th {\n",
       "        vertical-align: top;\n",
       "    }\n",
       "\n",
       "    .dataframe thead th {\n",
       "        text-align: right;\n",
       "    }\n",
       "</style>\n",
       "<table border=\"1\" class=\"dataframe\">\n",
       "  <thead>\n",
       "    <tr style=\"text-align: right;\">\n",
       "      <th></th>\n",
       "      <th>company</th>\n",
       "      <th>location</th>\n",
       "      <th>description</th>\n",
       "    </tr>\n",
       "  </thead>\n",
       "  <tbody>\n",
       "    <tr>\n",
       "      <th>0</th>\n",
       "      <td>0</td>\n",
       "      <td>0</td>\n",
       "      <td>0</td>\n",
       "    </tr>\n",
       "    <tr>\n",
       "      <th>1</th>\n",
       "      <td></td>\n",
       "      <td>CA - Alameda</td>\n",
       "      <td>Analytical Chemistry and Microbiology. NMR and...</td>\n",
       "    </tr>\n",
       "    <tr>\n",
       "      <th>2</th>\n",
       "      <td>10X Genomics</td>\n",
       "      <td>CA - Pleasanton</td>\n",
       "      <td>Genomics Platform</td>\n",
       "    </tr>\n",
       "    <tr>\n",
       "      <th>3</th>\n",
       "      <td>23andMe</td>\n",
       "      <td>CA - Mountain View</td>\n",
       "      <td>DNA Testing</td>\n",
       "    </tr>\n",
       "    <tr>\n",
       "      <th>4</th>\n",
       "      <td>3-V Biosciences</td>\n",
       "      <td>CA - Menlo Park</td>\n",
       "      <td>Drugs targeting the fatty acid synthase enzyme</td>\n",
       "    </tr>\n",
       "  </tbody>\n",
       "</table>\n",
       "</div>"
      ],
      "text/plain": [
       "               company            location  \\\n",
       "0                    0                   0   \n",
       "1                             CA - Alameda   \n",
       "2        10X Genomics      CA - Pleasanton   \n",
       "3             23andMe   CA - Mountain View   \n",
       "4     3-V Biosciences      CA - Menlo Park   \n",
       "\n",
       "                                         description  \n",
       "0                                                  0  \n",
       "1  Analytical Chemistry and Microbiology. NMR and...  \n",
       "2                                  Genomics Platform  \n",
       "3                                        DNA Testing  \n",
       "4     Drugs targeting the fatty acid synthase enzyme  "
      ]
     },
     "execution_count": 7,
     "metadata": {},
     "output_type": "execute_result"
    }
   ],
   "source": [
    "df.to_csv('companies1.csv', sep=',')\n",
    "df.head()"
   ]
  }
 ],
 "metadata": {
  "kernelspec": {
   "display_name": "Python 3",
   "language": "python",
   "name": "python3"
  },
  "language_info": {
   "codemirror_mode": {
    "name": "ipython",
    "version": 3
   },
   "file_extension": ".py",
   "mimetype": "text/x-python",
   "name": "python",
   "nbconvert_exporter": "python",
   "pygments_lexer": "ipython3",
   "version": "3.6.2"
  }
 },
 "nbformat": 4,
 "nbformat_minor": 2
}
